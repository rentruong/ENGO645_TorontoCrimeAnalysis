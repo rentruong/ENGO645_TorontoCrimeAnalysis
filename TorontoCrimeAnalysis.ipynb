{
 "cells": [
  {
   "cell_type": "code",
   "execution_count": 1,
   "id": "99b4cdab-c33c-4838-8c79-4ec6c6e3e386",
   "metadata": {
    "tags": []
   },
   "outputs": [
    {
     "name": "stdout",
     "output_type": "stream",
     "text": [
      "D:\\ENGO645_TermProject_Data\n"
     ]
    }
   ],
   "source": [
    "# set workspace\n",
    "WhoIsWorking = \"RT\"\n",
    "WorkLocation = \"School\"\n",
    "\n",
    "if WhoIsWorking == \"RT\":\n",
    "    if WorkLocation == \"Home\":\n",
    "        folder_path = r'C:\\Users\\rentr\\Desktop\\ENGO\\DataMining\\ENGO645_TermProject_Data'\n",
    "    elif WorkLocation == \"School\":\n",
    "        folder_path = r'D:\\ENGO645_TermProject_Data'\n",
    "elif WhoIsWorking == \"AA\":\n",
    "    folder_path = ''\n",
    "elif WhoIsWorking == \"IA\":\n",
    "    folder_path = ''\n",
    "elif WhoIsWorking == \"AI\":\n",
    "    folder_path = ''\n",
    "\n",
    "print(folder_path)"
   ]
  },
  {
   "cell_type": "code",
   "execution_count": 2,
   "id": "6698cb81-0c01-425b-ac6d-3b5d031de842",
   "metadata": {
    "tags": []
   },
   "outputs": [
    {
     "name": "stdout",
     "output_type": "stream",
     "text": [
      "BuildingOutlines.CPG\n",
      "BuildingOutlines.dbf\n",
      "BuildingOutlines.prj\n",
      "BuildingOutlines.sbn\n",
      "BuildingOutlines.sbx\n",
      "BuildingOutlines.shp\n",
      "BuildingOutlines.shp.xml\n",
      "BuildingOutlines.shx\n",
      "CensusProfile_2021_PopAndIncome_Reformatted.csv\n",
      "ClimateData_Hourly.csv\n",
      "EnhancedPointsOfInterestPoint_Toronto.cpg\n",
      "EnhancedPointsOfInterestPoint_Toronto.dbf\n",
      "EnhancedPointsOfInterestPoint_Toronto.prj\n",
      "EnhancedPointsOfInterestPoint_Toronto.sbn\n",
      "EnhancedPointsOfInterestPoint_Toronto.sbx\n",
      "EnhancedPointsOfInterestPoint_Toronto.shp\n",
      "EnhancedPointsOfInterestPoint_Toronto.shp.xml\n",
      "EnhancedPointsOfInterestPoint_Toronto.shx\n",
      "HousePrices_Condos.csv\n",
      "HousePrices_Detached.csv\n",
      "HousePrices_SemiDetached.csv\n",
      "LandUseClassified_20211220.cpg\n",
      "LandUseClassified_20211220.dbf\n",
      "LandUseClassified_20211220.prj\n",
      "LandUseClassified_20211220.sbn\n",
      "LandUseClassified_20211220.sbx\n",
      "LandUseClassified_20211220.shp\n",
      "LandUseClassified_20211220.shp.xml\n",
      "LandUseClassified_20211220.shx\n",
      "MajorCrimeIndicators.csv\n",
      "Neighbourhoods.CPG\n",
      "Neighbourhoods.dbf\n",
      "Neighbourhoods.prj\n",
      "Neighbourhoods.sbn\n",
      "Neighbourhoods.sbx\n",
      "Neighbourhoods.shp\n",
      "Neighbourhoods.shp.xml\n",
      "Neighbourhoods.shx\n",
      "Poles.CPG\n",
      "Poles.dbf\n",
      "Poles.prj\n",
      "Poles.qpj\n",
      "Poles.sbn\n",
      "Poles.sbx\n",
      "Poles.shp\n",
      "Poles.shp.xml\n",
      "Poles.shx\n",
      "TrafficCamera.CPG\n",
      "TrafficCamera.dbf\n",
      "TrafficCamera.prj\n",
      "TrafficCamera.sbn\n",
      "TrafficCamera.sbx\n",
      "TrafficCamera.shp\n",
      "TrafficCamera.shp.xml\n",
      "TrafficCamera.shx\n"
     ]
    }
   ],
   "source": [
    "import os\n",
    "\n",
    "# List all files in the folder\n",
    "files = os.listdir(folder_path)\n",
    "\n",
    "# Print the list of files\n",
    "for file in files:\n",
    "    print(file)"
   ]
  },
  {
   "cell_type": "code",
   "execution_count": 3,
   "id": "2a944fe0-8c9e-4122-9e2e-cae7d510ed85",
   "metadata": {
    "tags": []
   },
   "outputs": [
    {
     "data": {
      "text/html": [
       "<div>\n",
       "<style scoped>\n",
       "    .dataframe tbody tr th:only-of-type {\n",
       "        vertical-align: middle;\n",
       "    }\n",
       "\n",
       "    .dataframe tbody tr th {\n",
       "        vertical-align: top;\n",
       "    }\n",
       "\n",
       "    .dataframe thead th {\n",
       "        text-align: right;\n",
       "    }\n",
       "</style>\n",
       "<table border=\"1\" class=\"dataframe\">\n",
       "  <thead>\n",
       "    <tr style=\"text-align: right;\">\n",
       "      <th></th>\n",
       "      <th>_id1</th>\n",
       "      <th>AREA_ID2</th>\n",
       "      <th>AREA_AT3</th>\n",
       "      <th>PARENT_4</th>\n",
       "      <th>AREA_SH5</th>\n",
       "      <th>AREA_LO6</th>\n",
       "      <th>AREA_NA7</th>\n",
       "      <th>AREA_DE8</th>\n",
       "      <th>CLASSIF9</th>\n",
       "      <th>CLASSIF10</th>\n",
       "      <th>OBJECTI11</th>\n",
       "      <th>geometry</th>\n",
       "    </tr>\n",
       "  </thead>\n",
       "  <tbody>\n",
       "    <tr>\n",
       "      <th>0</th>\n",
       "      <td>1</td>\n",
       "      <td>2502366</td>\n",
       "      <td>26022881</td>\n",
       "      <td>0</td>\n",
       "      <td>174</td>\n",
       "      <td>174</td>\n",
       "      <td>South Eglinton-Davisville</td>\n",
       "      <td>South Eglinton-Davisville (174)</td>\n",
       "      <td>Not an NIA or Emerging Neighbourhood</td>\n",
       "      <td>NA</td>\n",
       "      <td>17824737.0</td>\n",
       "      <td>POLYGON ((-79.38635 43.69783, -79.38623 43.697...</td>\n",
       "    </tr>\n",
       "    <tr>\n",
       "      <th>1</th>\n",
       "      <td>2</td>\n",
       "      <td>2502365</td>\n",
       "      <td>26022880</td>\n",
       "      <td>0</td>\n",
       "      <td>173</td>\n",
       "      <td>173</td>\n",
       "      <td>North Toronto</td>\n",
       "      <td>North Toronto (173)</td>\n",
       "      <td>Not an NIA or Emerging Neighbourhood</td>\n",
       "      <td>NA</td>\n",
       "      <td>17824753.0</td>\n",
       "      <td>POLYGON ((-79.39744 43.70693, -79.39837 43.706...</td>\n",
       "    </tr>\n",
       "  </tbody>\n",
       "</table>\n",
       "</div>"
      ],
      "text/plain": [
       "   _id1  AREA_ID2  AREA_AT3  PARENT_4 AREA_SH5 AREA_LO6  \\\n",
       "0     1   2502366  26022881         0      174      174   \n",
       "1     2   2502365  26022880         0      173      173   \n",
       "\n",
       "                    AREA_NA7                         AREA_DE8  \\\n",
       "0  South Eglinton-Davisville  South Eglinton-Davisville (174)   \n",
       "1              North Toronto              North Toronto (173)   \n",
       "\n",
       "                               CLASSIF9 CLASSIF10   OBJECTI11  \\\n",
       "0  Not an NIA or Emerging Neighbourhood        NA  17824737.0   \n",
       "1  Not an NIA or Emerging Neighbourhood        NA  17824753.0   \n",
       "\n",
       "                                            geometry  \n",
       "0  POLYGON ((-79.38635 43.69783, -79.38623 43.697...  \n",
       "1  POLYGON ((-79.39744 43.70693, -79.39837 43.706...  "
      ]
     },
     "execution_count": 3,
     "metadata": {},
     "output_type": "execute_result"
    }
   ],
   "source": [
    "import os\n",
    "import geopandas as gpd\n",
    "\n",
    "# Path to the shapefile for neighborhoods\n",
    "neighborhoods_shapefile_path = os.path.join(folder_path, 'Neighbourhoods.shp')\n",
    "\n",
    "# Read the shapefile into a GeoDataFrame\n",
    "neighborhoods_gdf = gpd.read_file(neighborhoods_shapefile_path)\n",
    "\n",
    "# Print the first few lines of the  table\n",
    "neighborhoods_gdf.head(2)"
   ]
  },
  {
   "cell_type": "code",
   "execution_count": 4,
   "id": "0974c047-40e7-4b45-8982-080b25eb9cae",
   "metadata": {
    "tags": []
   },
   "outputs": [
    {
     "data": {
      "text/html": [
       "<div>\n",
       "<style scoped>\n",
       "    .dataframe tbody tr th:only-of-type {\n",
       "        vertical-align: middle;\n",
       "    }\n",
       "\n",
       "    .dataframe tbody tr th {\n",
       "        vertical-align: top;\n",
       "    }\n",
       "\n",
       "    .dataframe thead th {\n",
       "        text-align: right;\n",
       "    }\n",
       "</style>\n",
       "<table border=\"1\" class=\"dataframe\">\n",
       "  <thead>\n",
       "    <tr style=\"text-align: right;\">\n",
       "      <th></th>\n",
       "      <th>geometry</th>\n",
       "      <th>UID</th>\n",
       "      <th>NeighbourhoodName</th>\n",
       "    </tr>\n",
       "  </thead>\n",
       "  <tbody>\n",
       "    <tr>\n",
       "      <th>0</th>\n",
       "      <td>POLYGON ((-79.38635 43.69783, -79.38623 43.697...</td>\n",
       "      <td>1</td>\n",
       "      <td>South Eglinton-Davisville</td>\n",
       "    </tr>\n",
       "    <tr>\n",
       "      <th>1</th>\n",
       "      <td>POLYGON ((-79.39744 43.70693, -79.39837 43.706...</td>\n",
       "      <td>2</td>\n",
       "      <td>North Toronto</td>\n",
       "    </tr>\n",
       "  </tbody>\n",
       "</table>\n",
       "</div>"
      ],
      "text/plain": [
       "                                            geometry  UID  \\\n",
       "0  POLYGON ((-79.38635 43.69783, -79.38623 43.697...    1   \n",
       "1  POLYGON ((-79.39744 43.70693, -79.39837 43.706...    2   \n",
       "\n",
       "           NeighbourhoodName  \n",
       "0  South Eglinton-Davisville  \n",
       "1              North Toronto  "
      ]
     },
     "execution_count": 4,
     "metadata": {},
     "output_type": "execute_result"
    }
   ],
   "source": [
    "# Keep only certain fields and rename fields\n",
    "neighborhoods_gdf = neighborhoods_gdf[['geometry', '_id1', 'AREA_NA7']].rename(columns={'_id1': 'UID', 'AREA_NA7': 'NeighbourhoodName'})\n",
    "\n",
    "# Print the first few lines of the updated GeoDataFrame\n",
    "neighborhoods_gdf.head(2)"
   ]
  },
  {
   "cell_type": "code",
   "execution_count": 5,
   "id": "22df5e58-68a7-438b-b61f-0e42a6fbec34",
   "metadata": {
    "tags": []
   },
   "outputs": [
    {
     "name": "stdout",
     "output_type": "stream",
     "text": [
      "Fields in the poles GeoDataFrame:\n",
      "Index(['objectid', 'subtype', 'subtypecod', 'elevation', 'X', 'Y', 'geometry'], dtype='object')\n"
     ]
    }
   ],
   "source": [
    "import geopandas as gpd\n",
    "import os\n",
    "\n",
    "# Path to the shapefile for poles\n",
    "poles_shapefile_path = os.path.join(folder_path, 'Poles.shp')\n",
    "\n",
    "# Read shapefiles into GeoDataFrames\n",
    "poles_gdf = gpd.read_file(poles_shapefile_path)\n",
    "\n",
    "# List fields in the poles GeoDataFrame\n",
    "poles_fields = poles_gdf.columns\n",
    "print(\"Fields in the poles GeoDataFrame:\")\n",
    "print(poles_fields)"
   ]
  },
  {
   "cell_type": "code",
   "execution_count": 6,
   "id": "cea2fa94-2a44-4946-adcf-e3bf3bead354",
   "metadata": {
    "tags": []
   },
   "outputs": [
    {
     "name": "stdout",
     "output_type": "stream",
     "text": [
      "Unique attributes in the 'subtype' field of poles:\n",
      "['Miscellaneous Pole' 'Street Light and Traffic Signal Pole'\n",
      " 'Traffic Signal Pole' 'Street Light Pole' 'Pedestrian Light Pole'\n",
      " 'Circular Hydro Tower']\n"
     ]
    }
   ],
   "source": [
    "# List unique attributes in the 'subtype' field of poles\n",
    "unique_subtypes = poles_gdf['subtype'].unique()\n",
    "\n",
    "# Print unique attributes\n",
    "print(\"Unique attributes in the 'subtype' field of poles:\")\n",
    "print(unique_subtypes)"
   ]
  },
  {
   "cell_type": "code",
   "execution_count": 7,
   "id": "cfb7f11e-c988-469c-b5aa-538f10a9ff40",
   "metadata": {
    "tags": []
   },
   "outputs": [],
   "source": [
    "# Filter poles to only keep certain subtypes\n",
    "desired_subtypes = ['Street Light and Traffic Signal Pole', 'Street Light Pole', 'Pedestrian Light Pole']\n",
    "filtered_poles_gdf = poles_gdf[poles_gdf['subtype'].isin(desired_subtypes)]"
   ]
  },
  {
   "cell_type": "code",
   "execution_count": 8,
   "id": "cbf4b3e1-ef33-4cd7-9474-15c48ed1251b",
   "metadata": {
    "tags": []
   },
   "outputs": [
    {
     "name": "stderr",
     "output_type": "stream",
     "text": [
      "C:\\ProgramData\\anaconda3\\Lib\\site-packages\\IPython\\core\\interactiveshell.py:3493: FutureWarning: The `op` parameter is deprecated and will be removed in a future release. Please use the `predicate` parameter instead.\n",
      "  if await self.run_code(code, result, async_=asy):\n"
     ]
    },
    {
     "data": {
      "text/html": [
       "<div>\n",
       "<style scoped>\n",
       "    .dataframe tbody tr th:only-of-type {\n",
       "        vertical-align: middle;\n",
       "    }\n",
       "\n",
       "    .dataframe tbody tr th {\n",
       "        vertical-align: top;\n",
       "    }\n",
       "\n",
       "    .dataframe thead th {\n",
       "        text-align: right;\n",
       "    }\n",
       "</style>\n",
       "<table border=\"1\" class=\"dataframe\">\n",
       "  <thead>\n",
       "    <tr style=\"text-align: right;\">\n",
       "      <th></th>\n",
       "      <th>geometry</th>\n",
       "      <th>UID</th>\n",
       "      <th>NeighbourhoodName</th>\n",
       "      <th>Poles_Count</th>\n",
       "    </tr>\n",
       "  </thead>\n",
       "  <tbody>\n",
       "    <tr>\n",
       "      <th>0</th>\n",
       "      <td>POLYGON ((-79.38635 43.69783, -79.38623 43.697...</td>\n",
       "      <td>1</td>\n",
       "      <td>South Eglinton-Davisville</td>\n",
       "      <td>649</td>\n",
       "    </tr>\n",
       "    <tr>\n",
       "      <th>1</th>\n",
       "      <td>POLYGON ((-79.39744 43.70693, -79.39837 43.706...</td>\n",
       "      <td>2</td>\n",
       "      <td>North Toronto</td>\n",
       "      <td>286</td>\n",
       "    </tr>\n",
       "  </tbody>\n",
       "</table>\n",
       "</div>"
      ],
      "text/plain": [
       "                                            geometry  UID  \\\n",
       "0  POLYGON ((-79.38635 43.69783, -79.38623 43.697...    1   \n",
       "1  POLYGON ((-79.39744 43.70693, -79.39837 43.706...    2   \n",
       "\n",
       "           NeighbourhoodName  Poles_Count  \n",
       "0  South Eglinton-Davisville          649  \n",
       "1              North Toronto          286  "
      ]
     },
     "execution_count": 8,
     "metadata": {},
     "output_type": "execute_result"
    }
   ],
   "source": [
    "# Perform spatial join to count the number of poles in each neighborhood\n",
    "poles_per_neighborhood = gpd.sjoin(neighborhoods_gdf, filtered_poles_gdf, how=\"left\", op=\"contains\").groupby('NeighbourhoodName').size()\n",
    "\n",
    "# Add the count of poles as a new column to the neighborhoods GeoDataFrame\n",
    "neighborhoods_gdf['Poles_Count'] = neighborhoods_gdf['NeighbourhoodName'].map(poles_per_neighborhood)\n",
    "\n",
    "# Display the first few rows of the updated neighborhoods GeoDataFrame\n",
    "neighborhoods_gdf.head(2)"
   ]
  },
  {
   "cell_type": "code",
   "execution_count": 9,
   "id": "48f01372-2dd8-495b-afb6-698a1cd66103",
   "metadata": {
    "tags": []
   },
   "outputs": [
    {
     "name": "stderr",
     "output_type": "stream",
     "text": [
      "C:\\ProgramData\\anaconda3\\Lib\\site-packages\\IPython\\core\\interactiveshell.py:3493: FutureWarning: The `op` parameter is deprecated and will be removed in a future release. Please use the `predicate` parameter instead.\n",
      "  if await self.run_code(code, result, async_=asy):\n"
     ]
    },
    {
     "data": {
      "text/html": [
       "<div>\n",
       "<style scoped>\n",
       "    .dataframe tbody tr th:only-of-type {\n",
       "        vertical-align: middle;\n",
       "    }\n",
       "\n",
       "    .dataframe tbody tr th {\n",
       "        vertical-align: top;\n",
       "    }\n",
       "\n",
       "    .dataframe thead th {\n",
       "        text-align: right;\n",
       "    }\n",
       "</style>\n",
       "<table border=\"1\" class=\"dataframe\">\n",
       "  <thead>\n",
       "    <tr style=\"text-align: right;\">\n",
       "      <th></th>\n",
       "      <th>geometry</th>\n",
       "      <th>UID</th>\n",
       "      <th>NeighbourhoodName</th>\n",
       "      <th>Poles_Count</th>\n",
       "      <th>POI_Count</th>\n",
       "    </tr>\n",
       "  </thead>\n",
       "  <tbody>\n",
       "    <tr>\n",
       "      <th>0</th>\n",
       "      <td>POLYGON ((-79.38635 43.69783, -79.38623 43.697...</td>\n",
       "      <td>1</td>\n",
       "      <td>South Eglinton-Davisville</td>\n",
       "      <td>649</td>\n",
       "      <td>1185</td>\n",
       "    </tr>\n",
       "    <tr>\n",
       "      <th>1</th>\n",
       "      <td>POLYGON ((-79.39744 43.70693, -79.39837 43.706...</td>\n",
       "      <td>2</td>\n",
       "      <td>North Toronto</td>\n",
       "      <td>286</td>\n",
       "      <td>851</td>\n",
       "    </tr>\n",
       "    <tr>\n",
       "      <th>2</th>\n",
       "      <td>POLYGON ((-79.43411 43.66015, -79.43537 43.659...</td>\n",
       "      <td>3</td>\n",
       "      <td>Dovercourt Village</td>\n",
       "      <td>1170</td>\n",
       "      <td>534</td>\n",
       "    </tr>\n",
       "    <tr>\n",
       "      <th>3</th>\n",
       "      <td>POLYGON ((-79.43870 43.66766, -79.43841 43.666...</td>\n",
       "      <td>4</td>\n",
       "      <td>Junction-Wallace Emerson</td>\n",
       "      <td>1663</td>\n",
       "      <td>876</td>\n",
       "    </tr>\n",
       "    <tr>\n",
       "      <th>4</th>\n",
       "      <td>POLYGON ((-79.38404 43.64497, -79.38502 43.644...</td>\n",
       "      <td>5</td>\n",
       "      <td>Yonge-Bay Corridor</td>\n",
       "      <td>1139</td>\n",
       "      <td>20281</td>\n",
       "    </tr>\n",
       "  </tbody>\n",
       "</table>\n",
       "</div>"
      ],
      "text/plain": [
       "                                            geometry  UID  \\\n",
       "0  POLYGON ((-79.38635 43.69783, -79.38623 43.697...    1   \n",
       "1  POLYGON ((-79.39744 43.70693, -79.39837 43.706...    2   \n",
       "2  POLYGON ((-79.43411 43.66015, -79.43537 43.659...    3   \n",
       "3  POLYGON ((-79.43870 43.66766, -79.43841 43.666...    4   \n",
       "4  POLYGON ((-79.38404 43.64497, -79.38502 43.644...    5   \n",
       "\n",
       "           NeighbourhoodName  Poles_Count  POI_Count  \n",
       "0  South Eglinton-Davisville          649       1185  \n",
       "1              North Toronto          286        851  \n",
       "2         Dovercourt Village         1170        534  \n",
       "3   Junction-Wallace Emerson         1663        876  \n",
       "4         Yonge-Bay Corridor         1139      20281  "
      ]
     },
     "execution_count": 9,
     "metadata": {},
     "output_type": "execute_result"
    }
   ],
   "source": [
    "# Path to the shapefile for POI\n",
    "poi_shapefile_path = os.path.join(folder_path, 'EnhancedPointsOfInterestPoint_Toronto.shp')\n",
    "\n",
    "# Read the shapefile into a GeoDataFrame\n",
    "poi_gdf = gpd.read_file(poi_shapefile_path)\n",
    "\n",
    "# Perform spatial join to count the number of POIs within each neighbourhood\n",
    "poi_per_neighborhood = gpd.sjoin(neighborhoods_gdf, poi_gdf, how=\"left\", op=\"contains\").groupby('NeighbourhoodName').size()\n",
    "\n",
    "# Add the count of POIs as a new column to the neighborhoods GeoDataFrame\n",
    "neighborhoods_gdf['POI_Count'] = neighborhoods_gdf['NeighbourhoodName'].map(poi_per_neighborhood)\n",
    "\n",
    "# Display the first few rows of the updated neighborhoods GeoDataFrame\n",
    "neighborhoods_gdf.head()"
   ]
  },
  {
   "cell_type": "code",
   "execution_count": 10,
   "id": "88eb0fd2-9178-4ec1-8b6e-7be48f4f7a88",
   "metadata": {
    "tags": []
   },
   "outputs": [
    {
     "name": "stderr",
     "output_type": "stream",
     "text": [
      "C:\\ProgramData\\anaconda3\\Lib\\site-packages\\IPython\\core\\interactiveshell.py:3493: FutureWarning: The `op` parameter is deprecated and will be removed in a future release. Please use the `predicate` parameter instead.\n",
      "  if await self.run_code(code, result, async_=asy):\n"
     ]
    },
    {
     "data": {
      "text/html": [
       "<div>\n",
       "<style scoped>\n",
       "    .dataframe tbody tr th:only-of-type {\n",
       "        vertical-align: middle;\n",
       "    }\n",
       "\n",
       "    .dataframe tbody tr th {\n",
       "        vertical-align: top;\n",
       "    }\n",
       "\n",
       "    .dataframe thead th {\n",
       "        text-align: right;\n",
       "    }\n",
       "</style>\n",
       "<table border=\"1\" class=\"dataframe\">\n",
       "  <thead>\n",
       "    <tr style=\"text-align: right;\">\n",
       "      <th></th>\n",
       "      <th>geometry</th>\n",
       "      <th>UID</th>\n",
       "      <th>NeighbourhoodName</th>\n",
       "      <th>Poles_Count</th>\n",
       "      <th>POI_Count</th>\n",
       "      <th>TCamera_Count</th>\n",
       "    </tr>\n",
       "  </thead>\n",
       "  <tbody>\n",
       "    <tr>\n",
       "      <th>0</th>\n",
       "      <td>POLYGON ((-79.38635 43.69783, -79.38623 43.697...</td>\n",
       "      <td>1</td>\n",
       "      <td>South Eglinton-Davisville</td>\n",
       "      <td>649</td>\n",
       "      <td>1185</td>\n",
       "      <td>2</td>\n",
       "    </tr>\n",
       "    <tr>\n",
       "      <th>1</th>\n",
       "      <td>POLYGON ((-79.39744 43.70693, -79.39837 43.706...</td>\n",
       "      <td>2</td>\n",
       "      <td>North Toronto</td>\n",
       "      <td>286</td>\n",
       "      <td>851</td>\n",
       "      <td>2</td>\n",
       "    </tr>\n",
       "    <tr>\n",
       "      <th>2</th>\n",
       "      <td>POLYGON ((-79.43411 43.66015, -79.43537 43.659...</td>\n",
       "      <td>3</td>\n",
       "      <td>Dovercourt Village</td>\n",
       "      <td>1170</td>\n",
       "      <td>534</td>\n",
       "      <td>1</td>\n",
       "    </tr>\n",
       "    <tr>\n",
       "      <th>3</th>\n",
       "      <td>POLYGON ((-79.43870 43.66766, -79.43841 43.666...</td>\n",
       "      <td>4</td>\n",
       "      <td>Junction-Wallace Emerson</td>\n",
       "      <td>1663</td>\n",
       "      <td>876</td>\n",
       "      <td>1</td>\n",
       "    </tr>\n",
       "    <tr>\n",
       "      <th>4</th>\n",
       "      <td>POLYGON ((-79.38404 43.64497, -79.38502 43.644...</td>\n",
       "      <td>5</td>\n",
       "      <td>Yonge-Bay Corridor</td>\n",
       "      <td>1139</td>\n",
       "      <td>20281</td>\n",
       "      <td>12</td>\n",
       "    </tr>\n",
       "  </tbody>\n",
       "</table>\n",
       "</div>"
      ],
      "text/plain": [
       "                                            geometry  UID  \\\n",
       "0  POLYGON ((-79.38635 43.69783, -79.38623 43.697...    1   \n",
       "1  POLYGON ((-79.39744 43.70693, -79.39837 43.706...    2   \n",
       "2  POLYGON ((-79.43411 43.66015, -79.43537 43.659...    3   \n",
       "3  POLYGON ((-79.43870 43.66766, -79.43841 43.666...    4   \n",
       "4  POLYGON ((-79.38404 43.64497, -79.38502 43.644...    5   \n",
       "\n",
       "           NeighbourhoodName  Poles_Count  POI_Count  TCamera_Count  \n",
       "0  South Eglinton-Davisville          649       1185              2  \n",
       "1              North Toronto          286        851              2  \n",
       "2         Dovercourt Village         1170        534              1  \n",
       "3   Junction-Wallace Emerson         1663        876              1  \n",
       "4         Yonge-Bay Corridor         1139      20281             12  "
      ]
     },
     "execution_count": 10,
     "metadata": {},
     "output_type": "execute_result"
    }
   ],
   "source": [
    "# Path to the shapefile for traffic cameras\n",
    "traffic_cameras_shapefile_path = os.path.join(folder_path, 'TrafficCamera.shp')\n",
    "\n",
    "# Read the shapefile into a GeoDataFrame\n",
    "traffic_cameras_gdf = gpd.read_file(traffic_cameras_shapefile_path)\n",
    "\n",
    "# Perform spatial join to count the number of traffic cameras within each neighborhood\n",
    "traffic_cameras_per_neighborhood = gpd.sjoin(neighborhoods_gdf, traffic_cameras_gdf, how=\"left\", op=\"contains\").groupby('NeighbourhoodName').size()\n",
    "\n",
    "# Add the count of traffic cameras as a new column to the neighborhoods GeoDataFrame\n",
    "neighborhoods_gdf['TCamera_Count'] = neighborhoods_gdf['NeighbourhoodName'].map(traffic_cameras_per_neighborhood)\n",
    "\n",
    "# Display the first few rows of the updated neighborhoods GeoDataFrame\n",
    "neighborhoods_gdf.head()"
   ]
  },
  {
   "cell_type": "code",
   "execution_count": null,
   "id": "dd7ec59e-6a50-4b19-8b47-6b18ca6f0b2b",
   "metadata": {},
   "outputs": [],
   "source": []
  }
 ],
 "metadata": {
  "kernelspec": {
   "display_name": "Python 3 (ipykernel)",
   "language": "python",
   "name": "python3"
  },
  "language_info": {
   "codemirror_mode": {
    "name": "ipython",
    "version": 3
   },
   "file_extension": ".py",
   "mimetype": "text/x-python",
   "name": "python",
   "nbconvert_exporter": "python",
   "pygments_lexer": "ipython3",
   "version": "3.11.5"
  }
 },
 "nbformat": 4,
 "nbformat_minor": 5
}
