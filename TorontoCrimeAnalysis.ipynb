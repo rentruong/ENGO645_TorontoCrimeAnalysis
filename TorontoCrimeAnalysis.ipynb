{
 "cells": [
  {
   "cell_type": "code",
   "execution_count": 1,
   "id": "99b4cdab-c33c-4838-8c79-4ec6c6e3e386",
   "metadata": {
    "tags": []
   },
   "outputs": [
    {
     "name": "stdout",
     "output_type": "stream",
     "text": [
      "C:\\Users\\achan\\OneDrive\\Desktop\\Term Project Data\n"
     ]
    }
   ],
   "source": [
    "# set workspace\n",
    "WhoIsWorking = \"AA\"\n",
    "WorkLocation = \"School\"\n",
    "\n",
    "if WhoIsWorking == \"RT\":\n",
    "    if WorkLocation == \"Home\":\n",
    "        folder_path = r'C:\\Users\\rentr\\Desktop\\ENGO\\DataMining\\ENGO645_TermProject_Data'\n",
    "    elif WorkLocation == \"School\":\n",
    "        folder_path = r'D:\\ENGO645_TermProject_Data'\n",
    "elif WhoIsWorking == \"AA\":\n",
    "    folder_path = r'C:\\Users\\achan\\OneDrive\\Desktop\\Term Project Data'\n",
    "elif WhoIsWorking == \"IA\":\n",
    "    folder_path = r'C:\\Users\\afoam\\assignments\\ENGO645_TorontoCrimeAnalysis'\n",
    "elif WhoIsWorking == \"AI\":\n",
    "    folder_path = r'C:\\Adewale_Directory\\Capacity_Building\\MGIS\\Lecture_Note\\WINTER2024\\ENGO645\\Course_Project\\Project_Data'\n",
    "\n",
    "print(folder_path)"
   ]
  },
  {
   "cell_type": "code",
   "execution_count": 2,
   "id": "6698cb81-0c01-425b-ac6d-3b5d031de842",
   "metadata": {
    "tags": []
   },
   "outputs": [
    {
     "name": "stdout",
     "output_type": "stream",
     "text": [
      "Archive\n",
      "AverageHomePrices_2023.csv\n",
      "BuildingOutlines.CPG\n",
      "BuildingOutlines.dbf\n",
      "BuildingOutlines.prj\n",
      "BuildingOutlines.sbn\n",
      "BuildingOutlines.sbx\n",
      "BuildingOutlines.shp\n",
      "BuildingOutlines.shp.xml\n",
      "BuildingOutlines.shx\n",
      "BuildingOutlines_Dissolved.dbf\n",
      "BuildingOutlines_Dissolved.prj\n",
      "BuildingOutlines_Dissolved.sbn\n",
      "BuildingOutlines_Dissolved.sbx\n",
      "BuildingOutlines_Dissolved.shp\n",
      "BuildingOutlines_Dissolved.shp.xml\n",
      "BuildingOutlines_Dissolved.shx\n",
      "CensusProfile_2021_PopAndIncome_Reformatted.csv\n",
      "ClimateData_Hourly.csv\n",
      "EnhancedPointsOfInterestPoint_Toronto.cpg\n",
      "EnhancedPointsOfInterestPoint_Toronto.dbf\n",
      "EnhancedPointsOfInterestPoint_Toronto.prj\n",
      "EnhancedPointsOfInterestPoint_Toronto.sbn\n",
      "EnhancedPointsOfInterestPoint_Toronto.sbx\n",
      "EnhancedPointsOfInterestPoint_Toronto.shp\n",
      "EnhancedPointsOfInterestPoint_Toronto.shp.xml\n",
      "EnhancedPointsOfInterestPoint_Toronto.shx\n",
      "HousePrices_Condos.csv\n",
      "HousePrices_Detached.csv\n",
      "HousePrices_SemiDetached.csv\n",
      "info\n",
      "LandUseClassified_20211220.cpg\n",
      "LandUseClassified_20211220.dbf\n",
      "LandUseClassified_20211220.prj\n",
      "LandUseClassified_20211220.sbn\n",
      "LandUseClassified_20211220.sbx\n",
      "LandUseClassified_20211220.shp\n",
      "LandUseClassified_20211220.shp.xml\n",
      "LandUseClassified_20211220.shx\n",
      "LUT_Neighbourhood_Community.csv\n",
      "MajorCrimeIndicators.csv\n",
      "MCI_Cleaned.csv\n",
      "Neighbourhoods.CPG\n",
      "Neighbourhoods.dbf\n",
      "Neighbourhoods.prj\n",
      "Neighbourhoods.sbn\n",
      "Neighbourhoods.sbx\n",
      "Neighbourhoods.shp\n",
      "Neighbourhoods.shp.xml\n",
      "Neighbourhoods.shx\n",
      "Neighbourhood_Cleaned.csv\n",
      "Poles.CPG\n",
      "Poles.dbf\n",
      "Poles.prj\n",
      "Poles.qpj\n",
      "Poles.sbn\n",
      "Poles.sbx\n",
      "Poles.shp\n",
      "Poles.shp.xml\n",
      "Poles.shx\n",
      "TI_Neighbourhoods_BuildingDissolved.csv\n",
      "TI_Neighbourhoods_BuildingDissolved.xlsx\n",
      "TI_Neighbourhoods_ParksOpenSpaceNaturalArea.csv\n",
      "TI_Neighbourhoods_ParksOpenSpaceNaturalArea.xlsx\n",
      "TrafficCamera.CPG\n",
      "TrafficCamera.dbf\n",
      "TrafficCamera.prj\n",
      "TrafficCamera.sbn\n",
      "TrafficCamera.sbx\n",
      "TrafficCamera.shp\n",
      "TrafficCamera.shp.xml\n",
      "TrafficCamera.shx\n"
     ]
    }
   ],
   "source": [
    "import os\n",
    "\n",
    "# List all files in the folder\n",
    "files = os.listdir(folder_path)\n",
    "\n",
    "# Print the list of files\n",
    "for file in files:\n",
    "    print(file)"
   ]
  },
  {
   "cell_type": "code",
   "execution_count": 3,
   "id": "2a944fe0-8c9e-4122-9e2e-cae7d510ed85",
   "metadata": {
    "tags": []
   },
   "outputs": [
    {
     "data": {
      "text/html": [
       "<div>\n",
       "<style scoped>\n",
       "    .dataframe tbody tr th:only-of-type {\n",
       "        vertical-align: middle;\n",
       "    }\n",
       "\n",
       "    .dataframe tbody tr th {\n",
       "        vertical-align: top;\n",
       "    }\n",
       "\n",
       "    .dataframe thead th {\n",
       "        text-align: right;\n",
       "    }\n",
       "</style>\n",
       "<table border=\"1\" class=\"dataframe\">\n",
       "  <thead>\n",
       "    <tr style=\"text-align: right;\">\n",
       "      <th></th>\n",
       "      <th>_id1</th>\n",
       "      <th>AREA_ID2</th>\n",
       "      <th>AREA_AT3</th>\n",
       "      <th>PARENT_4</th>\n",
       "      <th>AREA_SH5</th>\n",
       "      <th>AREA_LO6</th>\n",
       "      <th>AREA_NA7</th>\n",
       "      <th>AREA_DE8</th>\n",
       "      <th>CLASSIF9</th>\n",
       "      <th>CLASSIF10</th>\n",
       "      <th>OBJECTI11</th>\n",
       "      <th>geometry</th>\n",
       "    </tr>\n",
       "  </thead>\n",
       "  <tbody>\n",
       "    <tr>\n",
       "      <th>0</th>\n",
       "      <td>1</td>\n",
       "      <td>2502366</td>\n",
       "      <td>26022881</td>\n",
       "      <td>0</td>\n",
       "      <td>174</td>\n",
       "      <td>174</td>\n",
       "      <td>South Eglinton-Davisville</td>\n",
       "      <td>South Eglinton-Davisville (174)</td>\n",
       "      <td>Not an NIA or Emerging Neighbourhood</td>\n",
       "      <td>NA</td>\n",
       "      <td>17824737.0</td>\n",
       "      <td>POLYGON ((-79.38635 43.69783, -79.38623 43.697...</td>\n",
       "    </tr>\n",
       "    <tr>\n",
       "      <th>1</th>\n",
       "      <td>2</td>\n",
       "      <td>2502365</td>\n",
       "      <td>26022880</td>\n",
       "      <td>0</td>\n",
       "      <td>173</td>\n",
       "      <td>173</td>\n",
       "      <td>North Toronto</td>\n",
       "      <td>North Toronto (173)</td>\n",
       "      <td>Not an NIA or Emerging Neighbourhood</td>\n",
       "      <td>NA</td>\n",
       "      <td>17824753.0</td>\n",
       "      <td>POLYGON ((-79.39744 43.70693, -79.39837 43.706...</td>\n",
       "    </tr>\n",
       "  </tbody>\n",
       "</table>\n",
       "</div>"
      ],
      "text/plain": [
       "   _id1  AREA_ID2  AREA_AT3  PARENT_4 AREA_SH5 AREA_LO6  \\\n",
       "0     1   2502366  26022881         0      174      174   \n",
       "1     2   2502365  26022880         0      173      173   \n",
       "\n",
       "                    AREA_NA7                         AREA_DE8  \\\n",
       "0  South Eglinton-Davisville  South Eglinton-Davisville (174)   \n",
       "1              North Toronto              North Toronto (173)   \n",
       "\n",
       "                               CLASSIF9 CLASSIF10   OBJECTI11  \\\n",
       "0  Not an NIA or Emerging Neighbourhood        NA  17824737.0   \n",
       "1  Not an NIA or Emerging Neighbourhood        NA  17824753.0   \n",
       "\n",
       "                                            geometry  \n",
       "0  POLYGON ((-79.38635 43.69783, -79.38623 43.697...  \n",
       "1  POLYGON ((-79.39744 43.70693, -79.39837 43.706...  "
      ]
     },
     "execution_count": 3,
     "metadata": {},
     "output_type": "execute_result"
    }
   ],
   "source": [
    "import os\n",
    "import geopandas as gpd\n",
    "import pandas as pd\n",
    "\n",
    "# Path to the shapefile for neighborhoods\n",
    "neighborhoods_shapefile_path = os.path.join(folder_path, 'Neighbourhoods.shp')\n",
    "\n",
    "# Read the shapefile into a GeoDataFrame\n",
    "neighbourhoods_gdf = gpd.read_file(neighborhoods_shapefile_path)\n",
    "\n",
    "# Print the first few lines of the  table\n",
    "neighbourhoods_gdf.head(2)"
   ]
  },
  {
   "cell_type": "code",
   "execution_count": 4,
   "id": "0974c047-40e7-4b45-8982-080b25eb9cae",
   "metadata": {
    "tags": []
   },
   "outputs": [
    {
     "data": {
      "text/html": [
       "<div>\n",
       "<style scoped>\n",
       "    .dataframe tbody tr th:only-of-type {\n",
       "        vertical-align: middle;\n",
       "    }\n",
       "\n",
       "    .dataframe tbody tr th {\n",
       "        vertical-align: top;\n",
       "    }\n",
       "\n",
       "    .dataframe thead th {\n",
       "        text-align: right;\n",
       "    }\n",
       "</style>\n",
       "<table border=\"1\" class=\"dataframe\">\n",
       "  <thead>\n",
       "    <tr style=\"text-align: right;\">\n",
       "      <th></th>\n",
       "      <th>geometry</th>\n",
       "      <th>UID</th>\n",
       "      <th>NeighbourhoodName</th>\n",
       "    </tr>\n",
       "  </thead>\n",
       "  <tbody>\n",
       "    <tr>\n",
       "      <th>0</th>\n",
       "      <td>POLYGON ((-79.38635 43.69783, -79.38623 43.697...</td>\n",
       "      <td>1</td>\n",
       "      <td>South Eglinton-Davisville</td>\n",
       "    </tr>\n",
       "    <tr>\n",
       "      <th>1</th>\n",
       "      <td>POLYGON ((-79.39744 43.70693, -79.39837 43.706...</td>\n",
       "      <td>2</td>\n",
       "      <td>North Toronto</td>\n",
       "    </tr>\n",
       "  </tbody>\n",
       "</table>\n",
       "</div>"
      ],
      "text/plain": [
       "                                            geometry  UID  \\\n",
       "0  POLYGON ((-79.38635 43.69783, -79.38623 43.697...    1   \n",
       "1  POLYGON ((-79.39744 43.70693, -79.39837 43.706...    2   \n",
       "\n",
       "           NeighbourhoodName  \n",
       "0  South Eglinton-Davisville  \n",
       "1              North Toronto  "
      ]
     },
     "execution_count": 4,
     "metadata": {},
     "output_type": "execute_result"
    }
   ],
   "source": [
    "# Keep only certain fields and rename fields\n",
    "neighbourhoods_gdf = neighbourhoods_gdf[['geometry', '_id1', 'AREA_NA7']].rename(columns={'_id1': 'UID', 'AREA_NA7': 'NeighbourhoodName'})\n",
    "\n",
    "# Print the first few lines of the updated GeoDataFrame\n",
    "neighbourhoods_gdf.head(2)"
   ]
  },
  {
   "cell_type": "code",
   "execution_count": null,
   "id": "22df5e58-68a7-438b-b61f-0e42a6fbec34",
   "metadata": {
    "tags": []
   },
   "outputs": [],
   "source": [
    "# Path to the shapefile for poles\n",
    "poles_shapefile_path = os.path.join(folder_path, 'Poles.shp')\n",
    "\n",
    "# Read shapefiles into GeoDataFrames\n",
    "poles_gdf = gpd.read_file(poles_shapefile_path)\n",
    "\n",
    "# List fields in the poles GeoDataFrame\n",
    "poles_fields = poles_gdf.columns\n",
    "print(\"Fields in the poles GeoDataFrame:\")\n",
    "print(poles_fields)"
   ]
  },
  {
   "cell_type": "code",
   "execution_count": null,
   "id": "cea2fa94-2a44-4946-adcf-e3bf3bead354",
   "metadata": {
    "tags": []
   },
   "outputs": [],
   "source": [
    "# List unique attributes in the 'subtype' field of poles\n",
    "unique_subtypes = poles_gdf['subtype'].unique()\n",
    "\n",
    "# Print unique attributes\n",
    "print(\"Unique attributes in the 'subtype' field of poles:\")\n",
    "print(unique_subtypes)"
   ]
  },
  {
   "cell_type": "code",
   "execution_count": null,
   "id": "cfb7f11e-c988-469c-b5aa-538f10a9ff40",
   "metadata": {
    "tags": []
   },
   "outputs": [],
   "source": [
    "# Filter poles to only keep certain subtypes\n",
    "desired_subtypes = ['Street Light and Traffic Signal Pole', 'Street Light Pole', 'Pedestrian Light Pole']\n",
    "filtered_poles_gdf = poles_gdf[poles_gdf['subtype'].isin(desired_subtypes)]"
   ]
  },
  {
   "cell_type": "code",
   "execution_count": null,
   "id": "cbf4b3e1-ef33-4cd7-9474-15c48ed1251b",
   "metadata": {
    "tags": []
   },
   "outputs": [],
   "source": [
    "# Perform spatial join to count the number of poles in each neighborhood\n",
    "poles_per_neighborhood = gpd.sjoin(neighbourhoods_gdf, filtered_poles_gdf, how=\"left\", op=\"contains\").groupby('NeighbourhoodName').size()\n",
    "\n",
    "# Add the count of poles as a new column to the neighborhoods GeoDataFrame\n",
    "neighbourhoods_gdf['Poles_Count'] = neighbourhoods_gdf['NeighbourhoodName'].map(poles_per_neighborhood)\n",
    "\n",
    "# Display the first few rows of the updated neighborhoods GeoDataFrame\n",
    "neighbourhoods_gdf.head(2)"
   ]
  },
  {
   "cell_type": "code",
   "execution_count": null,
   "id": "48f01372-2dd8-495b-afb6-698a1cd66103",
   "metadata": {
    "tags": []
   },
   "outputs": [],
   "source": [
    "# Path to the shapefile for POI\n",
    "poi_shapefile_path = os.path.join(folder_path, 'EnhancedPointsOfInterestPoint_Toronto.shp')\n",
    "\n",
    "# Read the shapefile into a GeoDataFrame\n",
    "poi_gdf = gpd.read_file(poi_shapefile_path)\n",
    "\n",
    "# Perform spatial join to count the number of POIs within each neighbourhood\n",
    "poi_per_neighborhood = gpd.sjoin(neighbourhoods_gdf, poi_gdf, how=\"left\", op=\"contains\").groupby('NeighbourhoodName').size()\n",
    "\n",
    "# Add the count of POIs as a new column to the neighborhoods GeoDataFrame\n",
    "neighbourhoods_gdf['POI_Count'] = neighbourhoods_gdf['NeighbourhoodName'].map(poi_per_neighborhood)\n",
    "\n",
    "# Display the first few rows of the updated neighborhoods GeoDataFrame\n",
    "neighbourhoods_gdf.head()"
   ]
  },
  {
   "cell_type": "code",
   "execution_count": null,
   "id": "88eb0fd2-9178-4ec1-8b6e-7be48f4f7a88",
   "metadata": {
    "tags": []
   },
   "outputs": [],
   "source": [
    "# Path to the shapefile for traffic cameras\n",
    "traffic_cameras_shapefile_path = os.path.join(folder_path, 'TrafficCamera.shp')\n",
    "\n",
    "# Read the shapefile into a GeoDataFrame\n",
    "traffic_cameras_gdf = gpd.read_file(traffic_cameras_shapefile_path)\n",
    "\n",
    "# Perform spatial join to count the number of traffic cameras within each neighborhood\n",
    "traffic_cameras_per_neighborhood = gpd.sjoin(neighbourhoods_gdf, traffic_cameras_gdf, how=\"left\", op=\"contains\").groupby('NeighbourhoodName').size()\n",
    "\n",
    "# Add the count of traffic cameras as a new column to the neighborhoods GeoDataFrame\n",
    "neighbourhoods_gdf['TCamera_Count'] = neighbourhoods_gdf['NeighbourhoodName'].map(traffic_cameras_per_neighborhood)\n",
    "\n",
    "# Display the first few rows of the updated neighborhoods GeoDataFrame\n",
    "neighbourhoods_gdf.head()"
   ]
  },
  {
   "cell_type": "code",
   "execution_count": null,
   "id": "dd7ec59e-6a50-4b19-8b47-6b18ca6f0b2b",
   "metadata": {
    "tags": []
   },
   "outputs": [],
   "source": [
    "import pandas as pd\n",
    "\n",
    "# Path to the CSV file\n",
    "cenus_file_path = os.path.join(folder_path, 'CensusProfile_2021_PopAndIncome_Reformatted.csv')\n",
    "\n",
    "# Read the CSV file into a DataFrame\n",
    "census_df = pd.read_csv(cenus_file_path)\n",
    "\n",
    "# Display the first few rows of the GeoDataFrame\n",
    "census_df.head()"
   ]
  },
  {
   "cell_type": "code",
   "execution_count": null,
   "id": "7d078d85-943d-4044-8592-3a4f57a6b9a6",
   "metadata": {
    "tags": []
   },
   "outputs": [],
   "source": [
    "neighbourhoods_gdf.head()"
   ]
  },
  {
   "cell_type": "code",
   "execution_count": null,
   "id": "b5cc6158-1b1c-4288-8d77-a001bd0234be",
   "metadata": {
    "tags": []
   },
   "outputs": [],
   "source": [
    "# Merge the DataFrame with the neighborhoods GeoDataFrame based on the \"NeighbourhoodName\" column\n",
    "neighbourhoods_gdf = pd.merge(neighbourhoods_gdf, census_df, left_on='NeighbourhoodName', right_on='Neighbourhood', how='left')\n",
    "\n",
    "# Display the first few rows of the updated neighborhoods GeoDataFrame\n",
    "neighbourhoods_gdf.head(2)"
   ]
  },
  {
   "cell_type": "code",
   "execution_count": null,
   "id": "2caa6e98-21c3-4539-a4e5-3ed869e90270",
   "metadata": {
    "tags": []
   },
   "outputs": [],
   "source": [
    "# Drop columns\n",
    "neighbourhoods_gdf.drop(['Geography', 'Neighbourhood'], axis=1, inplace=True)\n",
    "\n",
    "# Display updated neighborhoods GeoDataFrame\n",
    "neighbourhoods_gdf.head(2)"
   ]
  },
  {
   "cell_type": "code",
   "execution_count": null,
   "id": "384ac608-beef-44c2-b8fd-bd8ba7814975",
   "metadata": {
    "tags": []
   },
   "outputs": [],
   "source": [
    "# Load the CSV file\n",
    "Buildings_file = os.path.join(folder_path, \"TI_Neighbourhoods_BuildingDissolved.csv\")\n",
    "Buildings_data = pd.read_csv(Buildings_file)\n",
    "\n",
    "# Merge the CSV data with neighbourhoods_gdf based on the NeighbourhoodName field\n",
    "neighbourhoods_gdf = pd.merge(neighbourhoods_gdf, Buildings_data, left_on=\"NeighbourhoodName\", right_on=\"AREA_NA7\")"
   ]
  },
  {
   "cell_type": "code",
   "execution_count": null,
   "id": "f0799f50-6bcf-4234-b335-a4fa8655701f",
   "metadata": {
    "tags": []
   },
   "outputs": [],
   "source": [
    "# Display the updated neighbourhoods_gdf\n",
    "neighbourhoods_gdf.head()"
   ]
  },
  {
   "cell_type": "code",
   "execution_count": null,
   "id": "b1d9355e-f738-43b0-b776-7cacc546d67a",
   "metadata": {
    "tags": []
   },
   "outputs": [],
   "source": [
    "# Specify columns to drop\n",
    "columns_to_drop = ['OBJECTID', 'AREA_NA7', 'AREA']\n",
    "\n",
    "# Drop the specified columns from neighbourhoods_gdf\n",
    "neighbourhoods_gdf = neighbourhoods_gdf.drop(columns=columns_to_drop)\n",
    "\n",
    "# Display the updated neighbourhoods_gdf\n",
    "neighbourhoods_gdf.head()"
   ]
  },
  {
   "cell_type": "code",
   "execution_count": null,
   "id": "ad5a494b-209a-4a12-96fd-9848127ff1b1",
   "metadata": {
    "tags": []
   },
   "outputs": [],
   "source": [
    "# Load the CSV file\n",
    "ParkOSNA_file = os.path.join(folder_path, \"TI_Neighbourhoods_ParksOpenSpaceNaturalArea.csv\")\n",
    "ParkOSNA_data = pd.read_csv(ParkOSNA_file)\n",
    "\n",
    "# Merge the CSV data with neighbourhoods_gdf based on the NeighbourhoodName field\n",
    "neighbourhoods_gdf = pd.merge(neighbourhoods_gdf, ParkOSNA_data, left_on=\"NeighbourhoodName\", right_on=\"AREA_NA7\")\n",
    "\n",
    "# Display the updated neighbourhoods_gdf\n",
    "neighbourhoods_gdf.head()"
   ]
  },
  {
   "cell_type": "code",
   "execution_count": null,
   "id": "8f4288bd-2e07-464e-af62-856d00480f71",
   "metadata": {
    "tags": []
   },
   "outputs": [],
   "source": [
    "# Specify columns to drop\n",
    "columns_to_drop = ['OBJECTID', 'AREA_NA7', 'AREA']\n",
    "\n",
    "# Drop the specified columns from neighbourhoods_gdf\n",
    "neighbourhoods_gdf = neighbourhoods_gdf.drop(columns=columns_to_drop)\n",
    "\n",
    "# Display the updated neighbourhoods_gdf\n",
    "neighbourhoods_gdf.head()"
   ]
  },
  {
   "cell_type": "code",
   "execution_count": null,
   "id": "da4846b9-a11b-4add-85bb-db459a464f94",
   "metadata": {
    "tags": []
   },
   "outputs": [],
   "source": [
    "# Subtract \"ParksOSNAPERCENTAGE\" from 100 to get the \"BuiltUpPERCENTAGE\"\n",
    "neighbourhoods_gdf['BuiltUpPERCENTAGE'] = 100 - neighbourhoods_gdf['ParksOSNAPERCENTAGE']\n",
    "\n",
    "# Display the updated neighbourhoods_gdf\n",
    "neighbourhoods_gdf.head()"
   ]
  },
  {
   "cell_type": "code",
   "execution_count": null,
   "id": "cb318d85-8744-4c79-9c96-ea0a593aebcf",
   "metadata": {
    "tags": []
   },
   "outputs": [],
   "source": [
    "# Load avg home prices CSV file\n",
    "AvgHomePrice = os.path.join(folder_path, \"AverageHomePrices_2023.csv\")\n",
    "AvgHomePrice_data = pd.read_csv(AvgHomePrice)\n",
    "\n",
    "# Merge the CSV data with neighbourhoods_gdf based on the NeighbourhoodName field\n",
    "neighbourhoods_gdf = pd.merge(neighbourhoods_gdf, AvgHomePrice_data, left_on=\"NeighbourhoodName\", right_on=\"Neighbourhood\")"
   ]
  },
  {
   "cell_type": "code",
   "execution_count": null,
   "id": "2bf07c31-a44a-4e7e-9499-c2174aa44913",
   "metadata": {
    "tags": []
   },
   "outputs": [],
   "source": [
    "# Specify columns to drop\n",
    "columns_to_drop = ['UID', 'Neighbourhood', 'TREB_Code']\n",
    "\n",
    "# Drop the specified columns from neighbourhoods_gdf\n",
    "neighbourhoods_gdf = neighbourhoods_gdf.drop(columns=columns_to_drop)\n",
    "\n",
    "# Display the updated neighbourhoods_gdf\n",
    "neighbourhoods_gdf.head()"
   ]
  },
  {
   "cell_type": "code",
   "execution_count": null,
   "id": "85a41d34-7703-497e-a0fd-1ce355a1e736",
   "metadata": {
    "tags": []
   },
   "outputs": [],
   "source": [
    "# Check for null values in each column\n",
    "null_counts = neighbourhoods_gdf.isnull().sum()\n",
    "\n",
    "# Display null counts for each column\n",
    "print(\"Null counts for each column:\")\n",
    "print(null_counts)"
   ]
  },
  {
   "cell_type": "code",
   "execution_count": null,
   "id": "577db602-5a50-43b3-893b-8f594425a2d4",
   "metadata": {
    "tags": []
   },
   "outputs": [],
   "source": [
    "# Export the DataFrame to a CSV file\n",
    "neighbourhoods_gdf.to_csv(os.path.join(folder_path, 'Neighbourhood_Cleaned.csv'), index=False)"
   ]
  },
  {
   "cell_type": "code",
   "execution_count": null,
   "id": "cabec4d2-7324-4fb3-8c89-f73301d67a68",
   "metadata": {
    "tags": []
   },
   "outputs": [],
   "source": [
    "# Load the ClimateData_Hourly.csv file\n",
    "ClimateData_file = os.path.join(folder_path, \"ClimateData_Hourly.csv\")\n",
    "ClimateData_data = pd.read_csv(ClimateData_file)\n",
    "\n",
    "# List all fields in the file\n",
    "fields_in_file = ClimateData_data.columns.tolist()\n",
    "\n",
    "# Display the list of fields\n",
    "print(fields_in_file)"
   ]
  },
  {
   "cell_type": "code",
   "execution_count": null,
   "id": "c9c14b09-a09c-4e34-8ca0-20525a0bc2d2",
   "metadata": {
    "tags": []
   },
   "outputs": [],
   "source": [
    "# Keep only the 'UTC_DATE_FORMATTED' and 'TEMP' fields\n",
    "ClimateData_data = ClimateData_data[['DATE_TIME_LINK', 'TEMP']]\n",
    "\n",
    "# Display the updated DataFrame\n",
    "ClimateData_data.head()"
   ]
  },
  {
   "cell_type": "code",
   "execution_count": null,
   "id": "3ee44eef-049f-4b17-b7c0-9ce8bbbbf06d",
   "metadata": {
    "tags": []
   },
   "outputs": [],
   "source": [
    "# Convert 'TEMP' column to numeric values, coercing errors to NaN\n",
    "ClimateData_data['TEMP'] = pd.to_numeric(ClimateData_data['TEMP'], errors='coerce')\n",
    "\n",
    "# Define a function to categorize temperature\n",
    "def categorize_temperature(temp):\n",
    "    if pd.isnull(temp) or temp == \"\":\n",
    "        return None  # If temperature is blank or null, return None\n",
    "    elif temp <= -35:\n",
    "        return \"Extreme Cold\"\n",
    "    elif -35 < temp <= -20:\n",
    "        return \"Very Cold\"\n",
    "    elif -20 < temp <= -10:\n",
    "        return \"Cold\"\n",
    "    elif -10 < temp <= -5:\n",
    "        return \"Chilly\"\n",
    "    elif -5 < temp <= 0:\n",
    "        return \"Cool\"\n",
    "    elif 0 < temp <= 10:\n",
    "        return \"Mild\"\n",
    "    elif 10 < temp <= 20:\n",
    "        return \"Warm\"\n",
    "    elif 20 < temp <= 29:\n",
    "        return \"Hot\"\n",
    "    else:\n",
    "        return \"Very Hot\"\n",
    "\n",
    "# Create the TEMPCategory field using the categorize_temperature function\n",
    "ClimateData_data['TEMPCategory'] = ClimateData_data['TEMP'].apply(categorize_temperature)"
   ]
  },
  {
   "cell_type": "code",
   "execution_count": null,
   "id": "96aef1d3-e8e1-470b-98c6-f9c5f23b0d46",
   "metadata": {
    "tags": []
   },
   "outputs": [],
   "source": [
    "# Display the first few rows to verify\n",
    "print(ClimateData_data.head(10))"
   ]
  },
  {
   "cell_type": "code",
   "execution_count": null,
   "id": "1887cd20-a1ae-4bdd-8f70-519395783e73",
   "metadata": {
    "tags": []
   },
   "outputs": [],
   "source": [
    "# Load the CSV file\n",
    "MajorCrime_file = os.path.join(folder_path, \"MajorCrimeIndicators.csv\")\n",
    "MajorCrime_data = pd.read_csv(MajorCrime_file)\n",
    "\n",
    "# List all fields in the file\n",
    "fields_in_file = MajorCrime_data.columns.tolist()\n",
    "\n",
    "# Display the list of fields\n",
    "print(fields_in_file)"
   ]
  },
  {
   "cell_type": "code",
   "execution_count": null,
   "id": "ca114234-507d-4b1a-b80b-71a08b21e92c",
   "metadata": {
    "tags": []
   },
   "outputs": [],
   "source": [
    "# Find the number of records in the filtered data\n",
    "num_records = len(MajorCrime_data)\n",
    "\n",
    "# Display the number of records\n",
    "print(\"Number of records:\", num_records)"
   ]
  },
  {
   "cell_type": "code",
   "execution_count": null,
   "id": "7cfa207b-53b1-466a-b82d-b9bbdfe51e29",
   "metadata": {
    "tags": []
   },
   "outputs": [],
   "source": [
    "# List unique attributes in the OCC_YEAR column\n",
    "unique_years = MajorCrime_data['OCC_YEAR'].unique()\n",
    "\n",
    "# Display the unique attributes\n",
    "print(\"Unique years:\", unique_years)"
   ]
  },
  {
   "cell_type": "code",
   "execution_count": null,
   "id": "afd37827-8ef9-4782-bf79-43ad4a7cdfd5",
   "metadata": {
    "tags": []
   },
   "outputs": [],
   "source": [
    "# Filter the data where OCC_YEAR is between 2014 and 2023 (inclusive)\n",
    "MajorCrime_data_filtered = MajorCrime_data[(MajorCrime_data['OCC_YEAR'] >= 2014) & (MajorCrime_data['OCC_YEAR'] <= 2023)]\n",
    "\n",
    "# Display the filtered data\n",
    "MajorCrime_data_filtered.head()"
   ]
  },
  {
   "cell_type": "code",
   "execution_count": null,
   "id": "88848bfa-2626-4e69-84c3-a66e70f85387",
   "metadata": {
    "tags": []
   },
   "outputs": [],
   "source": [
    "# Find the number of records in the filtered data\n",
    "num_records = len(MajorCrime_data_filtered)\n",
    "\n",
    "# Display the number of records\n",
    "print(\"Number of records:\", num_records)"
   ]
  },
  {
   "cell_type": "code",
   "execution_count": null,
   "id": "336271c8-5da4-4502-aa63-2e01165e8796",
   "metadata": {
    "tags": []
   },
   "outputs": [],
   "source": [
    "# List unique attributes in the OCC_YEAR column\n",
    "unique_years = MajorCrime_data_filtered['OCC_YEAR'].unique()\n",
    "\n",
    "# Display the unique attributes\n",
    "print(\"Unique years:\", unique_years)"
   ]
  },
  {
   "cell_type": "code",
   "execution_count": null,
   "id": "3ee87f63-644c-4b49-80a9-3e97a56c513d",
   "metadata": {
    "tags": []
   },
   "outputs": [],
   "source": [
    "# Filter out rows where either LONG_WGS84 or LAT_WGS84 equals 0\n",
    "MajorCrime_data_filtered = MajorCrime_data_filtered[(MajorCrime_data_filtered['LONG_WGS84'] != 0) & (MajorCrime_data_filtered['LAT_WGS84'] != 0)]\n",
    "\n",
    "# Find the number of records in the filtered data\n",
    "num_records = len(MajorCrime_data_filtered)\n",
    "\n",
    "# Display the number of records\n",
    "print(\"Number of records:\", num_records)"
   ]
  },
  {
   "cell_type": "code",
   "execution_count": null,
   "id": "6c260811-c1ec-4537-90f5-0f40178f27c4",
   "metadata": {
    "tags": []
   },
   "outputs": [],
   "source": [
    "# Define a function to convert month names to month numbers\n",
    "def month_to_num(month):\n",
    "    month_dict = {\n",
    "        'January': 1,\n",
    "        'February': 2,\n",
    "        'March': 3,\n",
    "        'April': 4,\n",
    "        'May': 5,\n",
    "        'June': 6,\n",
    "        'July': 7,\n",
    "        'August': 8,\n",
    "        'September': 9,\n",
    "        'October': 10,\n",
    "        'November': 11,\n",
    "        'December': 12\n",
    "    }\n",
    "    return month_dict.get(month)\n",
    "\n",
    "# Apply the function to create the new field\n",
    "MajorCrime_data_filtered['MonthNum'] = MajorCrime_data_filtered['OCC_MONTH'].apply(month_to_num)"
   ]
  },
  {
   "cell_type": "code",
   "execution_count": null,
   "id": "afc28020-87e6-4c9e-859a-d8c850016501",
   "metadata": {
    "tags": []
   },
   "outputs": [],
   "source": [
    "# Display the DataFrame with the new field\n",
    "MajorCrime_data_filtered"
   ]
  },
  {
   "cell_type": "code",
   "execution_count": null,
   "id": "dc36aa89-fc05-417f-bad1-a52173db6415",
   "metadata": {
    "tags": []
   },
   "outputs": [],
   "source": [
    "# Convert OCC_YEAR, OCC_MONTH, and OCC_DAY to integers\n",
    "MajorCrime_data_filtered['OCC_YEAR'] = MajorCrime_data_filtered['OCC_YEAR'].astype(int)\n",
    "MajorCrime_data_filtered['OCC_DAY'] = MajorCrime_data_filtered['OCC_DAY'].astype(int)\n",
    "MajorCrime_data_filtered['OCC_DOY'] = MajorCrime_data_filtered['OCC_DOY'].astype(int)\n",
    "\n",
    "# Define a function to convert month names to month numbers\n",
    "def month_to_num(month):\n",
    "    month_dict = {\n",
    "        'January': 1,\n",
    "        'February': 2,\n",
    "        'March': 3,\n",
    "        'April': 4,\n",
    "        'May': 5,\n",
    "        'June': 6,\n",
    "        'July': 7,\n",
    "        'August': 8,\n",
    "        'September': 9,\n",
    "        'October': 10,\n",
    "        'November': 11,\n",
    "        'December': 12\n",
    "    }\n",
    "    return month_dict.get(month)\n",
    "\n",
    "# Define a function to create the date-time link\n",
    "def create_date_time_link(year, month, day, hour):\n",
    "    return f\"{year}/{month}/{day} {hour}\"\n",
    "\n",
    "# Apply the function to create the new field\n",
    "MajorCrime_data_filtered['MonthNum'] = MajorCrime_data_filtered['OCC_MONTH'].apply(month_to_num)\n",
    "MajorCrime_data_filtered['DATE_TIME_LINK'] = MajorCrime_data_filtered.apply(lambda row: create_date_time_link(row['OCC_YEAR'], row['MonthNum'], row['OCC_DAY'], row['OCC_HOUR']), axis=1)"
   ]
  },
  {
   "cell_type": "code",
   "execution_count": null,
   "id": "85003d6b-de50-465a-9b91-aae08b47eab9",
   "metadata": {
    "tags": []
   },
   "outputs": [],
   "source": [
    "# Display the DataFrame with the new field\n",
    "MajorCrime_data_filtered"
   ]
  },
  {
   "cell_type": "code",
   "execution_count": null,
   "id": "800f2cb1-1d55-4e0b-ae45-f985ccc5bd2d",
   "metadata": {
    "tags": []
   },
   "outputs": [],
   "source": [
    "# List of fields to keep\n",
    "fields_to_keep = ['OCC_YEAR', 'OCC_MONTH', 'OCC_DAY', 'OCC_DOY', 'OCC_DOW', 'OCC_HOUR', 'LOCATION_TYPE', 'PREMISES_TYPE', 'OFFENCE', 'MCI_CATEGORY','NEIGHBOURHOOD_158', 'LONG_WGS84', 'LAT_WGS84', 'DATE_TIME_LINK']\n",
    "\n",
    "# Keep only the desired fields using direct column indexing\n",
    "MajorCrime_data_filtered = MajorCrime_data_filtered[fields_to_keep]"
   ]
  },
  {
   "cell_type": "code",
   "execution_count": null,
   "id": "0a4709e6-a367-471f-80c7-dd3d1ea14ba1",
   "metadata": {
    "tags": []
   },
   "outputs": [],
   "source": [
    "# Display the updated DataFrame\n",
    "MajorCrime_data_filtered"
   ]
  },
  {
   "cell_type": "code",
   "execution_count": null,
   "id": "052b6e65-c12a-46db-a2ae-e2183c6e4908",
   "metadata": {
    "tags": []
   },
   "outputs": [],
   "source": [
    "# Define a function to categorize hours\n",
    "def categorize_time(hour):\n",
    "    if 6 <= hour <= 11:\n",
    "        return 'Morning'\n",
    "    elif 12 <= hour <= 17:\n",
    "        return 'Afternoon'\n",
    "    elif 18 <= hour <= 23:\n",
    "        return 'Evening'\n",
    "    else:\n",
    "        return 'Night'\n",
    "\n",
    "# Apply the function to create the new field\n",
    "MajorCrime_data_filtered.loc[:,'TIMECategory'] = MajorCrime_data_filtered['OCC_HOUR'].apply(categorize_time)"
   ]
  },
  {
   "cell_type": "code",
   "execution_count": null,
   "id": "1103c75b-7487-40a0-9734-a7acdc2bd631",
   "metadata": {
    "tags": []
   },
   "outputs": [],
   "source": [
    "# Display the DataFrame with the new field\n",
    "MajorCrime_data_filtered.head(10)"
   ]
  },
  {
   "cell_type": "code",
   "execution_count": null,
   "id": "73772bbb-baa1-4296-b3f1-dea7ffffc421",
   "metadata": {
    "tags": []
   },
   "outputs": [],
   "source": [
    "# Merge the climate data with the crime data based on the date columns\n",
    "MajorCrime_data_filtered = pd.merge(MajorCrime_data_filtered, ClimateData_data, left_on='DATE_TIME_LINK', right_on='DATE_TIME_LINK', how='left')"
   ]
  },
  {
   "cell_type": "code",
   "execution_count": null,
   "id": "cdbb71ff-047b-471b-8dc3-b7cb0890448a",
   "metadata": {
    "tags": []
   },
   "outputs": [],
   "source": [
    "# Display the merged data\n",
    "MajorCrime_data_filtered.head()"
   ]
  },
  {
   "cell_type": "code",
   "execution_count": null,
   "id": "333ddc6f-221b-4758-99e0-bf8ca8621848",
   "metadata": {
    "tags": []
   },
   "outputs": [],
   "source": [
    "# Check for null values in each column\n",
    "null_counts = MajorCrime_data_filtered.isnull().sum()\n",
    "\n",
    "# Display null counts for each column\n",
    "print(\"Null counts for each column:\")\n",
    "print(null_counts)"
   ]
  },
  {
   "cell_type": "code",
   "execution_count": null,
   "id": "5638d66c-e0ec-412b-8985-fbaab766b574",
   "metadata": {
    "tags": []
   },
   "outputs": [],
   "source": [
    "# Display information about the DataFrame\n",
    "print(\"Information about MajorCrime_data_filtered:\")\n",
    "MajorCrime_data_filtered.info()"
   ]
  },
  {
   "cell_type": "code",
   "execution_count": null,
   "id": "f623748e-b344-45f9-bd4c-64d06330ff99",
   "metadata": {
    "tags": []
   },
   "outputs": [],
   "source": [
    "# Export the DataFrame to a CSV file\n",
    "MajorCrime_data_filtered.to_csv(os.path.join(folder_path, 'MCI_Cleaned.csv'), index=False)"
   ]
  }
 ],
 "metadata": {
  "kernelspec": {
   "display_name": "Python 3 (ipykernel)",
   "language": "python",
   "name": "python3"
  },
  "language_info": {
   "codemirror_mode": {
    "name": "ipython",
    "version": 3
   },
   "file_extension": ".py",
   "mimetype": "text/x-python",
   "name": "python",
   "nbconvert_exporter": "python",
   "pygments_lexer": "ipython3",
   "version": "3.11.5"
  }
 },
 "nbformat": 4,
 "nbformat_minor": 5
}
