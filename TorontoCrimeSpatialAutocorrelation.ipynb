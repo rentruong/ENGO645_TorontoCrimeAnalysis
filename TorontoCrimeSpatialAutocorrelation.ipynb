{
 "cells": [
  {
   "cell_type": "code",
   "execution_count": 1,
   "metadata": {
    "tags": []
   },
   "outputs": [
    {
     "name": "stdout",
     "output_type": "stream",
     "text": [
      "C:\\Users\\afoam\\assignments\\ENGO645_TorontoCrimeAnalysis\n"
     ]
    }
   ],
   "source": [
    "# set workspace\n",
    "WhoIsWorking = \"IA\"\n",
    "WorkLocation = \"School\"\n",
    "\n",
    "if WhoIsWorking == \"RT\":\n",
    "    if WorkLocation == \"Home\":\n",
    "        folder_path = r'C:\\Users\\rentr\\Desktop\\ENGO\\DataMining\\ENGO645_TermProject_Data'\n",
    "    elif WorkLocation == \"School\":\n",
    "        folder_path = r'D:\\ENGO645_TermProject_Data'\n",
    "elif WhoIsWorking == \"AA\":\n",
    "    folder_path = ''\n",
    "elif WhoIsWorking == \"IA\":\n",
    "    folder_path = r'C:\\Users\\afoam\\assignments\\ENGO645_TorontoCrimeAnalysis'\n",
    "elif WhoIsWorking == \"AI\":\n",
    "    folder_path = r'C:\\Adewale_Directory\\Capacity_Building\\MGIS\\Lecture_Note\\WINTER2024\\ENGO645\\Course_Project\\Project_Data'\n",
    "\n",
    "print(folder_path)"
   ]
  },
  {
   "cell_type": "code",
   "execution_count": null,
   "metadata": {},
   "outputs": [],
   "source": [
    "pip install pysal"
   ]
  },
  {
   "cell_type": "code",
   "execution_count": null,
   "metadata": {
    "tags": []
   },
   "outputs": [],
   "source": [
    "#Install and import neccessary libraries\n",
    "import os\n",
    "import numpy as np\n",
    "import geopandas as gpd\n",
    "import pandas as pd\n",
    "import matplotlib.pyplot as plt\n",
    "from pysal.explore import esda\n",
    "from pysal.lib import \n",
    "import warnings\n",
    "warnings.filterwarnings('ignore')"
   ]
  },
  {
   "cell_type": "code",
   "execution_count": null,
   "metadata": {
    "tags": []
   },
   "outputs": [],
   "source": [
    "# Load and read the MCI file\n",
    "MCI_file = os.path.join(folder_path, \"MCI_Cleaned.csv\") # Update to the actual file location\n",
    "MCI_data = pd.read_csv(MCI_file)\n",
    " \n",
    "MCI_data #display dataframe"
   ]
  },
  {
   "cell_type": "code",
   "execution_count": null,
   "metadata": {
    "tags": []
   },
   "outputs": [],
   "source": [
    "# Find the count of offenses by neighborhood to aggregate data to Neighbourhood level\n",
    "neighbourhood_counts = MCI_data['NEIGHBOURHOOD_158'].value_counts().reset_index()\n",
    "neighbourhood_counts.columns = ['NeighbourhoodName', 'Crime_Count']  # Rename columns\n",
    "\n",
    "neighbourhood_counts"
   ]
  },
  {
   "cell_type": "code",
   "execution_count": 5,
   "metadata": {
    "tags": []
   },
   "outputs": [],
   "source": [
    "# Plot the Crime Count Histogram\n",
    "neighbourhood_counts['Crime_Count'].plot(kind='hist', bins=20, title='Crime_Count')\n",
    "plt.gca().spines[['top', 'right',]].set_visible(False)"
   ]
  },
  {
   "cell_type": "code",
   "execution_count": 6,
   "metadata": {
    "tags": []
   },
   "outputs": [],
   "source": [
    "# Check normality test using Shapiro-Wilk\n",
    "from scipy.stats import shapiro\n",
    "\n",
    "# Perform Shapiro-Wilk test\n",
    "stat, p_value = shapiro(neighbourhood_counts['Crime_Count'])\n",
    "\n",
    "# Print the results\n",
    "print('Shapiro-Wilk Test Statistic:', stat)\n",
    "print('p-value:', p_value)"
   ]
  },
  {
   "cell_type": "code",
   "execution_count": null,
   "metadata": {},
   "outputs": [],
   "source": [
    "# Load and read the Normalized Neighbourhood file\n",
    "neighbourhood_file = os.path.join(folder_path, \"Neighbourhood_Cleaned_Normalized.csv\")\n",
    "neighbourhood_data = pd.read_csv(neighbourhood_file)"
   ]
  },
  {
   "cell_type": "code",
   "execution_count": null,
   "metadata": {},
   "outputs": [],
   "source": [
    "# Check Neighbourhood File for 'geometry' column\n",
    "if 'geometry' in neighbourhood_data.columns:\n",
    "    neighbourhood_data.drop(columns=['geometry'], inplace=True)\n",
    "else:\n",
    "    print(\"Column 'geometry' not found in the DataFrame.\")\n",
    "\n",
    "neighbourhood_data"
   ]
  },
  {
   "cell_type": "code",
   "execution_count": null,
   "metadata": {
    "tags": []
   },
   "outputs": [],
   "source": [
    "# Load the Neighbourhood shapefile\n",
    "NeighbourhoodBoundary_SHP = os.path.join(folder_path, \"Neighbourhoods.shp\")\n",
    "neighbourhood_SHP = gpd.read_file(NeighbourhoodBoundary_SHP)\n",
    "\n",
    "# Drop all fields except geometry and name fields from neighbourhood_SHP\n",
    "neighbourhood_SHP = neighbourhood_SHP[['geometry', 'AREA_NA7']]\n",
    "\n",
    "neighbourhood_SHP"
   ]
  },
  {
   "cell_type": "code",
   "execution_count": null,
   "metadata": {
    "tags": []
   },
   "outputs": [],
   "source": [
    "# Join the neighbourhood dataframe with the Neighbourhood geodataframe using 'NeighbourhoodName' and 'AREA_NA7' respectively\n",
    "joined_data = neighbourhood_SHP.merge(neighbourhood_data, left_on='AREA_NA7', right_on='NeighbourhoodName', how='right')\n",
    "\n",
    "joined_data"
   ]
  },
  {
   "cell_type": "code",
   "execution_count": null,
   "metadata": {
    "tags": []
   },
   "outputs": [],
   "source": [
    "# Join the aggregated crime counts with neighborhood joined_data based on the common neighborhood field (NeighbourhoodName)\n",
    "neighbourhood_merged = joined_data.merge(neighbourhood_counts, on='NeighbourhoodName', how='left')\n",
    "\n",
    "# Drop rows with missing values (if any)\n",
    "neighbourhood_merged = neighbourhood_merged.dropna(subset=['Crime_Count'])"
   ]
  },
  {
   "cell_type": "code",
   "execution_count": null,
   "metadata": {
    "tags": []
   },
   "outputs": [],
   "source": [
    "# Check if all geometries are valid\n",
    "all_valid = neighbourhood_merged.geometry.is_valid.all()\n",
    "\n",
    "if all_valid:\n",
    "    print(\"All geometries are valid.\")\n",
    "else:\n",
    "    print(\"Some geometries are invalid.\")"
   ]
  },
  {
   "cell_type": "code",
   "execution_count": 12,
   "metadata": {
    "tags": []
   },
   "outputs": [],
   "source": [
    "# Convert neighbourhood_merged to a geodataframe\n",
    "neighbourhood_gdf = gpd.GeoDataFrame(neighbourhood_merged, geometry='geometry')\n",
    "\n",
    "neighbourhood_gdf.info() # Check geo dataframe data type"
   ]
  },
  {
   "cell_type": "code",
   "execution_count": null,
   "metadata": {
    "tags": []
   },
   "outputs": [],
   "source": [
    "# Select relevant features for further analysis\n",
    "neighbourhood_gdf = neighbourhood_gdf[['NeighbourhoodName', 'Crime_Count', 'Poles_Count', 'POI_Count', 'TCamera_Count', 'TotalPopulation', 'MedianTotalIncome_normalized',\n",
    "                                      'AverageTotalIncome_normalized','AverageHousePrice_normalized', 'BuildingCoveragePERCENTAGE', \n",
    "                                      'ParksOSNAPERCENTAGE', 'BuiltUpPERCENTAGE', 'geometry']]\n",
    "\n",
    "neighbourhood_gdf"
   ]
  },
  {
   "cell_type": "code",
   "execution_count": null,
   "metadata": {
    "tags": []
   },
   "outputs": [],
   "source": [
    "# Create a spatial weights matrix using queen contiguity\n",
    "w = weights.Queen.from_dataframe(neighbourhood_gdf)\n",
    "\n",
    "# Perform Global Moran's I analysis\n",
    "moran = esda.Moran(neighbourhood_gdf['Crime_Count'], w)\n",
    "\n",
    "# Print the Moran's I statistic and p-value\n",
    "print('Moran\\'s I:', moran.I)\n",
    "print('p-value:', moran.p_sim)"
   ]
  }
 ],
 "metadata": {
  "kernelspec": {
   "display_name": "Python 3 (ipykernel)",
   "language": "python",
   "name": "python3"
  },
  "language_info": {
   "codemirror_mode": {
    "name": "ipython",
    "version": 3
   },
   "file_extension": ".py",
   "mimetype": "text/x-python",
   "name": "python",
   "nbconvert_exporter": "python",
   "pygments_lexer": "ipython3",
   "version": "3.7.9"
  }
 },
 "nbformat": 4,
 "nbformat_minor": 4
}
